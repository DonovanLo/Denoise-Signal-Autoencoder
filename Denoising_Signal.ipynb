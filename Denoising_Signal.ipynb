{
 "cells": [
  {
   "cell_type": "markdown",
   "metadata": {},
   "source": [
    "# Denoising Signal using Autoencoder\n",
    "\n",
    "### *By Donovan Lo, Booz Allen Hamilton*\n",
    "### *<lo_donovan@bah.com>*\n",
    "\n",
    "This tutorial is introductory to denoising signal with Autoencoders. We will mainly be focused on the application of autoencoder and will not go in the math specifics. We hope by the end of the tutorial you have a good idea what an autoencoder is, and how it can be used towards denoising signal.  \n",
    "\n",
    "### Table of Contents:\n",
    "* [What are Autoencoders ?](#definition)\n",
    "* [Setup](#setup)\n",
    "* [Vanilla Autoencoder](#v_ae)\n",
    "* [Multilayer Autoencoder](#m_ae)\n",
    "    * [Build/Train Multilayer Autoencoder](#build_mae)\n",
    "    * [Acoustic Data](#acoustic_data)\n",
    "* [Convolutional Autoencoder](#conv_ae)\n",
    "* [Summary](#summary)\n",
    "* [Next Steps](#next_steps)\n",
    "* [Reference](#ref)"
   ]
  },
  {
   "cell_type": "markdown",
   "metadata": {},
   "source": [
    "## What are Autoencoders ? <a class=\"anchor\" id=\"definition\"></a>\n",
    "\n",
    "Autoencoder is an [Artificial Neural Network (ANN)](https://en.wikipedia.org/wiki/Artificial_neural_network) trained to learn an encoded representation of an input data. This unsupervised mechanism does not require labels, and instead maps the recognized patterns to a set of compressed features, at which can then be converted to the same or a different presentation. \n",
    "\n",
    "Autoencoder is made up two neural networks. The first half is called the encoder and the second half is called the decoder. Both neural networks are made up of single or multiple hidden layers with [activation functions](https://en.wikipedia.org/wiki/Activation_function). The encoder and decoder are normally symmetrical in the number of hidden layers to ensure that the output's dimension retains the input's shape.  \n",
    "\n",
    "<img src='./images/autoencoder.jpg' style='width: 40%' title='Autoencoder'> \n",
    "\n",
    "The encoder is responsible for taking the input data , learns the important features from the dataset and outputs a vector representation of the input. This vector representation in the latent space is called the encoded vector or code. The encoder utilizes dense, convolutional, and/or maxpool layers to help reduce the dimensionality of the input data.  \n",
    "\n",
    "<img src='./images/VGG16.JPG' style='width: 40%' title='VGG16'> \n",
    "```\n",
    "                                                Fig. VGG-16 architecture from Rovder\n",
    "```\n",
    "\n",
    "The decoder as the second component takes the encoded vector and uncompresses the information back to the input's dimension. The output of the deocoder can either be the same input pattern or some dedicated parttern that you have trained the neural network to learn. Unlike the encoder, this neural network uses convolutional transpose layers to expand the lower dimensional data to higher dimension, allowing the model to restore to the input's shape."
   ]
  },
  {
   "cell_type": "markdown",
   "metadata": {},
   "source": [
    "$$\n",
    "loss = {|| x - y ||}^{2} = {|| x - d(z) ||}^{2} = {|| x - d(e(x)) ||}^{2}\n",
    "$$\n",
    "\n",
    "Where\n",
    "\n",
    "    x is your input\n",
    "    y or d(z), is your output or decoded code representation\n",
    "    z or e(x) , encoded input\n"
   ]
  },
  {
   "cell_type": "markdown",
   "metadata": {},
   "source": [
    "During the inference or feedforward flow, the input data goes through the encoder, then to the decoder, and outputs the desire pattern its trained on. The autoencoder is updated by performing a feedforward, the output is compared and evaluted against the desired output pattern for the error. The error is used in the backpropogation to update the weights/parameters in the hidden layer of the decoder and encoder. Like in a vanilla neural network, the update utilizes the gradient to make the appropriate change in the hidden layer's weights/parameters. \n",
    "\n",
    "This type of ANN is normaly seen in dimensionality reduction applications, such as data compression or [principle component analysis (PCA)](https://en.wikipedia.org/wiki/Principal_component_analysis). Other usage of Autoencoder includes Anomaly detection and Machine Translation. In this tutorial, we will focus on Autoencoders can be used to remove noise from signals. Before we start diving in on how Autoencoder can be constructed for denoising, lets touch on signals. \n",
    "\n",
    "<img src='./images/radio_waves.jpg' style='width: 60%' title='radio wave'> \n",
    "```\n",
    "                                                Fig. Radio Waves from Kerbs\n",
    "```\n",
    "\n",
    "Signal is any data in time, used to be shared through a messaging system. The data can be acoustic, electromagnetic radio frequency, image/video, and so on. We will be examining acoustic signal in particular, but in order to ensure that the autoencoder neural network we build accepts the data type, we need to structure it a way that the model can understand it.  In this tutorial, we will convert the acoustic signal to an image representation, called Mel [spectrogram](https://en.wikipedia.org/wiki/Spectrogram). . In this image representation or 2D array of interger values, the Autoencoder can accept and perform math operation on it. \n",
    "\n",
    "<img src='./images/mel_spectrogram.jpg' style='width: 40%' title='mel spectrogram'> \n",
    "\n",
    "At the completion of this lab, the reader will have learned to use the [librosa](https://librosa.org/doc/latest/index.html) and [Keras](https://keras.io/) API to accomplish the following tasks:\n",
    "- Restructure the Acoustic signal for Deep Learning modeling\n",
    "- Design and implement Vanilla, Multilayer, and Convolutional Autoencoder\n",
    "- Train and Evaluate the Autoencoders"
   ]
  },
  {
   "cell_type": "markdown",
   "metadata": {},
   "source": [
    "## Setup <a class=\"anchor\" id=\"setup\"></a>\n",
    "\n",
    "This tutorial is written in Python 3 and requires the following Python libraries. Although not required, the script will benefit from running on a GPU device. \n",
    "\n",
    "### Import Python Libraries\n",
    "\n",
    "We will primarily use for `librosa` and `soundfile` for acoustic processing, and`tensorflow` with `keras` for training our Autoencoder. "
   ]
  },
  {
   "cell_type": "code",
   "execution_count": 1,
   "metadata": {},
   "outputs": [
    {
     "name": "stderr",
     "output_type": "stream",
     "text": [
      "Using TensorFlow backend.\n"
     ]
    }
   ],
   "source": [
    "import os\n",
    "import matplotlib\n",
    "#matplotlib.use('Agg') # No pictures displayed \n",
    "import pylab\n",
    "import librosa\n",
    "import librosa.display\n",
    "import soundfile as sf\n",
    "import numpy as np\n",
    "import matplotlib.pyplot as plt\n",
    "\n",
    "import keras\n",
    "from keras.datasets import mnist\n",
    "from keras.layers import Dense, Flatten, Reshape, Input, InputLayer\n",
    "from keras.models import Sequential, Model\n",
    "from keras.layers import Conv2D, MaxPooling2D, Conv2DTranspose\n",
    "from tqdm.keras import TqdmCallback\n",
    "import tensorflow as tf\n",
    "from keras.backend import clear_session"
   ]
  },
  {
   "cell_type": "markdown",
   "metadata": {},
   "source": [
    "### MNIST Dataset \n",
    "\n",
    "Let's warm up with our \"hello world\" dataset to get familiar with handling image data types with our Autoencoder. [MNIST](http://yann.lecun.com/exdb/mnist/) is a handwritten digit made of 60,000 training examples, and 10,000 testing examples. This dataset is used for a long time now, to study image classification and image processing. The following code brings in the MNIST dataset in and visualizes it."
   ]
  },
  {
   "cell_type": "code",
   "execution_count": 2,
   "metadata": {},
   "outputs": [
    {
     "name": "stdout",
     "output_type": "stream",
     "text": [
      "X_train: (60000, 28, 28)\n",
      "Y_train: (60000,)\n",
      "X_test:  (10000, 28, 28)\n",
      "Y_test:  (10000,)\n"
     ]
    },
    {
     "data": {
      "image/png": "[encoded data removed]",
      "text/plain": [
       "<Figure size 432x288 with 3 Axes>"
      ]
     },
     "metadata": {
      "needs_background": "light"
     },
     "output_type": "display_data"
    }
   ],
   "source": [
    "(train_X, train_y), (test_X, test_y) = mnist.load_data()\n",
    "train_X = train_X.astype('float32') / 255.\n",
    "test_X = test_X.astype('float32') / 255.\n",
    "print('X_train: ' + str(train_X.shape))\n",
    "print('Y_train: ' + str(train_y.shape))\n",
    "print('X_test:  '  + str(test_X.shape))\n",
    "print('Y_test:  '  + str(test_y.shape))\n",
    "for i in range(3):  \n",
    "    plt.subplot(1,3,i+1)\n",
    "    plt.imshow(train_X[i], cmap=plt.get_cmap('gray'))"
   ]
  },
  {
   "cell_type": "markdown",
   "metadata": {},
   "source": [
    "Since this tutorial is about denoising signals , let's add some noise to our dataset. There are variety of noising injections including [salt&pepper](https://en.wikipedia.org/wiki/Salt-and-pepper_noise), [gaussian](https://en.wikipedia.org/wiki/Gaussian_noise), [poisson](https://en.wikipedia.org/wiki/Shot_noise), and constructive/destructive signals. The code below will add salt&pepper noise to our MNIST dataset. "
   ]
  },
  {
   "cell_type": "code",
   "execution_count": 3,
   "metadata": {},
   "outputs": [],
   "source": [
    "noise_factor = 0.2\n",
    "train_X_noisy = train_X + noise_factor * tf.random.normal(shape=train_X.shape) \n",
    "test_X_noisy = test_X + noise_factor * tf.random.normal(shape=test_X.shape) \n",
    "\n",
    "train_X_noisy = tf.clip_by_value(train_X_noisy, clip_value_min=0., clip_value_max=1.).numpy()\n",
    "test_X_noisy = tf.clip_by_value(test_X_noisy, clip_value_min=0., clip_value_max=1.).numpy()"
   ]
  },
  {
   "cell_type": "markdown",
   "metadata": {},
   "source": [
    "Below are some examples of noisy MNIST data. "
   ]
  },
  {
   "cell_type": "code",
   "execution_count": 4,
   "metadata": {},
   "outputs": [
    {
     "data": {
      "image/png": "[encoded data removed]",
      "text/plain": [
       "<Figure size 1440x144 with 10 Axes>"
      ]
     },
     "metadata": {
      "needs_background": "light"
     },
     "output_type": "display_data"
    }
   ],
   "source": [
    "n = 10\n",
    "plt.figure(figsize=(20, 2))\n",
    "for i in range(n):\n",
    "    ax = plt.subplot(1, n, i + 1)\n",
    "    plt.title(\"original + noise\")\n",
    "    plt.imshow(tf.squeeze(test_X_noisy[i]))\n",
    "    plt.gray()\n",
    "plt.show()"
   ]
  },
  {
   "cell_type": "markdown",
   "metadata": {},
   "source": [
    "## Vanilla Autoencoder <a class=\"anchor\" id=\"v_ae\"></a>\n",
    "\n",
    "Next, let's build a vanilla autoencoder that only has the barebone components. As mention before, there are two neural networks we can build and chain together. The encoder below accepts the image by taking the input's dimension, flattens the 2D input to a vector, and encodes it to a vector of size \"code_size\". \n",
    "\n",
    "We create another neural network for the decoder. It takes the vector of size \"code_size\" as the input, upsamples the number parameters to the input image size, and reshapes it's dimension to a 2D array. "
   ]
  },
  {
   "cell_type": "code",
   "execution_count": 5,
   "metadata": {},
   "outputs": [],
   "source": [
    "def build_autoencoder(img_shape, code_size):\n",
    "    # The encoder\n",
    "    encoder = Sequential()\n",
    "    encoder.add(InputLayer(img_shape))\n",
    "    encoder.add(Flatten())\n",
    "    encoder.add(Dense(code_size, activation='relu'))\n",
    "\n",
    "    # The decoder\n",
    "    decoder = Sequential()\n",
    "    decoder.add(InputLayer((code_size,)))\n",
    "    decoder.add(Dense(np.prod(img_shape)))\n",
    "    decoder.add(Reshape(img_shape))\n",
    "\n",
    "    return encoder, decoder"
   ]
  },
  {
   "cell_type": "code",
   "execution_count": 6,
   "metadata": {},
   "outputs": [
    {
     "name": "stdout",
     "output_type": "stream",
     "text": [
      "Model: \"model_1\"\n",
      "_________________________________________________________________\n",
      "Layer (type)                 Output Shape              Param #   \n",
      "=================================================================\n",
      "input_3 (InputLayer)         (None, 28, 28)            0         \n",
      "_________________________________________________________________\n",
      "sequential_1 (Sequential)    (None, 1000)              785000    \n",
      "_________________________________________________________________\n",
      "sequential_2 (Sequential)    (None, 28, 28)            784784    \n",
      "=================================================================\n",
      "Total params: 1,569,784\n",
      "Trainable params: 1,569,784\n",
      "Non-trainable params: 0\n",
      "_________________________________________________________________\n",
      "None\n"
     ]
    }
   ],
   "source": [
    "IMG_SHAPE = train_X[0].shape\n",
    "\n",
    "encoder, decoder = build_autoencoder(IMG_SHAPE, 1000)\n",
    "inp = Input(IMG_SHAPE)\n",
    "code = encoder(inp)\n",
    "reconstruction = decoder(code)\n",
    "\n",
    "autoencoder = Model(inp,reconstruction)\n",
    "autoencoder.compile(optimizer='adamax', loss='mse')\n",
    "print(autoencoder.summary())"
   ]
  },
  {
   "cell_type": "markdown",
   "metadata": {},
   "source": [
    "From above, you can see that there are two layers with (None, 28, 28) . The 28x28 are the dimension size of each image in MNIST. The second layer in between those two is the coding layer that takes the size of the \"code_size\" we have specify or the number of parameters we would like the neural network to use to represent our encoded vector for each input image. \n",
    "\n",
    "Let's train the model ! Feel free to modify the epochs to something higher. Epochs is the number of iteration to have the model train through the entire set of dataset. "
   ]
  },
  {
   "cell_type": "code",
   "execution_count": 7,
   "metadata": {
    "scrolled": true
   },
   "outputs": [
    {
     "name": "stdout",
     "output_type": "stream",
     "text": [
      "Train on 60000 samples, validate on 10000 samples\n",
      "Epoch 1/30\n",
      "60000/60000 [==============================] - 7s 121us/step - loss: 0.0130 - val_loss: 0.0081\n",
      "Epoch 2/30\n",
      "60000/60000 [==============================] - 6s 108us/step - loss: 0.0076 - val_loss: 0.0073\n",
      "Epoch 3/30\n",
      "60000/60000 [==============================] - 6s 102us/step - loss: 0.0072 - val_loss: 0.0070\n",
      "Epoch 4/30\n",
      "60000/60000 [==============================] - 6s 106us/step - loss: 0.0070 - val_loss: 0.0070\n",
      "Epoch 5/30\n",
      "60000/60000 [==============================] - 6s 106us/step - loss: 0.0069 - val_loss: 0.0070\n",
      "Epoch 6/30\n",
      "60000/60000 [==============================] - 6s 106us/step - loss: 0.0068 - val_loss: 0.0068\n",
      "Epoch 7/30\n",
      "60000/60000 [==============================] - 6s 102us/step - loss: 0.0067 - val_loss: 0.0068\n",
      "Epoch 8/30\n",
      "60000/60000 [==============================] - 6s 106us/step - loss: 0.0066 - val_loss: 0.0066\n",
      "Epoch 9/30\n",
      "60000/60000 [==============================] - 6s 106us/step - loss: 0.0065 - val_loss: 0.0065\n",
      "Epoch 10/30\n",
      "60000/60000 [==============================] - 6s 107us/step - loss: 0.0064 - val_loss: 0.0064\n",
      "Epoch 11/30\n",
      "60000/60000 [==============================] - 6s 107us/step - loss: 0.0063 - val_loss: 0.0063\n",
      "Epoch 12/30\n",
      "60000/60000 [==============================] - 6s 103us/step - loss: 0.0061 - val_loss: 0.0062\n",
      "Epoch 13/30\n",
      "60000/60000 [==============================] - 6s 104us/step - loss: 0.0061 - val_loss: 0.0061\n",
      "Epoch 14/30\n",
      "60000/60000 [==============================] - 6s 108us/step - loss: 0.0060 - val_loss: 0.0060\n",
      "Epoch 15/30\n",
      "60000/60000 [==============================] - 6s 106us/step - loss: 0.0059 - val_loss: 0.0059\n",
      "Epoch 16/30\n",
      "60000/60000 [==============================] - 6s 106us/step - loss: 0.0058 - val_loss: 0.0059\n",
      "Epoch 17/30\n",
      "60000/60000 [==============================] - 6s 106us/step - loss: 0.0057 - val_loss: 0.0058\n",
      "Epoch 18/30\n",
      "60000/60000 [==============================] - 6s 106us/step - loss: 0.0056 - val_loss: 0.0058\n",
      "Epoch 19/30\n",
      "60000/60000 [==============================] - 6s 105us/step - loss: 0.0056 - val_loss: 0.0057\n",
      "Epoch 20/30\n",
      "60000/60000 [==============================] - 6s 108us/step - loss: 0.0055 - val_loss: 0.0056\n",
      "Epoch 21/30\n",
      "60000/60000 [==============================] - 6s 107us/step - loss: 0.0054 - val_loss: 0.0056\n",
      "Epoch 22/30\n",
      "60000/60000 [==============================] - 6s 106us/step - loss: 0.0054 - val_loss: 0.0056\n",
      "Epoch 23/30\n",
      "60000/60000 [==============================] - 6s 105us/step - loss: 0.0053 - val_loss: 0.0055\n",
      "Epoch 24/30\n",
      "60000/60000 [==============================] - 6s 105us/step - loss: 0.0053 - val_loss: 0.0055\n",
      "Epoch 25/30\n",
      "60000/60000 [==============================] - 6s 106us/step - loss: 0.0053 - val_loss: 0.0055\n",
      "Epoch 26/30\n",
      "60000/60000 [==============================] - 6s 104us/step - loss: 0.0052 - val_loss: 0.0054\n",
      "Epoch 27/30\n",
      "60000/60000 [==============================] - 6s 107us/step - loss: 0.0052 - val_loss: 0.0054\n",
      "Epoch 28/30\n",
      "60000/60000 [==============================] - 6s 107us/step - loss: 0.0051 - val_loss: 0.0054\n",
      "Epoch 29/30\n",
      "60000/60000 [==============================] - 6s 107us/step - loss: 0.0051 - val_loss: 0.0053\n",
      "Epoch 30/30\n",
      "60000/60000 [==============================] - 6s 106us/step - loss: 0.0051 - val_loss: 0.0053\n"
     ]
    }
   ],
   "source": [
    "history = autoencoder.fit(x=train_X_noisy, y=train_X, epochs=30,\n",
    "                validation_data=[test_X_noisy, test_X])"
   ]
  },
  {
   "cell_type": "code",
   "execution_count": 10,
   "metadata": {},
   "outputs": [
    {
     "data": {
      "image/png": "[encoded data removed]",
      "text/plain": [
       "<Figure size 432x288 with 1 Axes>"
      ]
     },
     "metadata": {
      "needs_background": "light"
     },
     "output_type": "display_data"
    }
   ],
   "source": [
    "plt.plot(history.history['loss'])\n",
    "plt.plot(history.history['val_loss'])\n",
    "plt.title('model loss')\n",
    "plt.ylabel('loss')\n",
    "plt.xlabel('epoch')\n",
    "plt.legend(['train', 'test'], loc='upper left')\n",
    "plt.show()"
   ]
  },
  {
   "cell_type": "code",
   "execution_count": 11,
   "metadata": {},
   "outputs": [
    {
     "data": {
      "text/plain": [
       "<matplotlib.image.AxesImage at 0x1cd5d549fc8>"
      ]
     },
     "execution_count": 11,
     "metadata": {},
     "output_type": "execute_result"
    },
    {
     "data": {
      "image/png": "[encoded data removed]",
      "text/plain": [
       "<Figure size 432x288 with 2 Axes>"
      ]
     },
     "metadata": {
      "needs_background": "light"
     },
     "output_type": "display_data"
    }
   ],
   "source": [
    "img = train_X_noisy[0]\n",
    "code = encoder.predict(img[None])[0]\n",
    "reco = decoder.predict(code[None])[0]\n",
    "\n",
    "plt.subplot(1,2,1)\n",
    "plt.title(\"Noise\")\n",
    "plt.imshow(img)\n",
    "\n",
    "plt.subplot(1,2,2)\n",
    "plt.title(\"Reconstructed\")\n",
    "plt.imshow(reco)"
   ]
  },
  {
   "cell_type": "markdown",
   "metadata": {},
   "source": [
    "## Multilayer Autoencoder <a class=\"anchor\" id=\"m_ae\"></a>\n",
    "\n",
    "In this section, we will move away from the vanilla Autoencoder and MNIST dataset and attempt to build a Multilayer Autoencoder with Acoustic signals. You might ask what makes a Multilayer and how do we go from MNIST dataset to a acoustic signal. We will look at acoustic signal data first , then discuss about the multilayer autoencoder. \n",
    "\n",
    "Let's bring in a wav file with the `librosa` library, convert it to a mel spectrogram, and visualize it. Below is recorded wav file of a person saying \"hello\". Spectrogram visualizes the intensity of spectrum frequencies respective to time. Time in the x-axis, and the Frequency in the y-axis. Mel is a scale , coming from the word melody, and representing the difference in pitches. "
   ]
  },
  {
   "cell_type": "code",
   "execution_count": 12,
   "metadata": {},
   "outputs": [],
   "source": [
    "sig, fs = librosa.load('./audio/hello.wav')   \n",
    "save_path = 'hello.jpg'\n",
    "\n",
    "pylab.axis('off') \n",
    "pylab.axes([0., 0., 1., 1.], frameon=False, xticks=[], yticks=[])\n",
    "M = librosa.feature.melspectrogram(y=sig, sr=fs)\n",
    "librosa.display.specshow(librosa.power_to_db(M, ref=np.max))\n",
    "pylab.savefig(save_path, bbox_inches=None, pad_inches=0)\n",
    "pylab.close()"
   ]
  },
  {
   "cell_type": "code",
   "execution_count": 13,
   "metadata": {},
   "outputs": [
    {
     "data": {
      "text/plain": [
       "<matplotlib.colorbar.Colorbar at 0x1cd66506fc8>"
      ]
     },
     "execution_count": 13,
     "metadata": {},
     "output_type": "execute_result"
    },
    {
     "data": {
      "image/png": "[encoded data removed]",
      "text/plain": [
       "<Figure size 432x288 with 2 Axes>"
      ]
     },
     "metadata": {
      "needs_background": "light"
     },
     "output_type": "display_data"
    }
   ],
   "source": [
    "plt.figure()\n",
    "librosa.display.specshow(librosa.power_to_db(M, ref=np.max))\n",
    "plt.colorbar()"
   ]
  },
  {
   "cell_type": "markdown",
   "metadata": {},
   "source": [
    "Convert the Mel Spectrogram back to a magnitude spectrogram, and save it to a wav file. "
   ]
  },
  {
   "cell_type": "code",
   "execution_count": 17,
   "metadata": {},
   "outputs": [],
   "source": [
    "S = librosa.feature.inverse.mel_to_stft(M)\n",
    "y = librosa.griffinlim(S)"
   ]
  },
  {
   "cell_type": "code",
   "execution_count": 104,
   "metadata": {},
   "outputs": [],
   "source": [
    "# write output\n",
    "sf.write('./audio/reconstructed_hello.wav', y, fs)"
   ]
  },
  {
   "cell_type": "markdown",
   "metadata": {},
   "source": [
    "Let's add salt & pepper noise to our mel spectrograms below. "
   ]
  },
  {
   "cell_type": "code",
   "execution_count": 14,
   "metadata": {},
   "outputs": [],
   "source": [
    "from skimage.util import random_noise"
   ]
  },
  {
   "cell_type": "code",
   "execution_count": 15,
   "metadata": {},
   "outputs": [],
   "source": [
    "noise_img = random_noise(M, mode='s&p',amount=0.2)\n",
    "noise_img = np.array(255*noise_img, dtype = 'float32')"
   ]
  },
  {
   "cell_type": "code",
   "execution_count": 16,
   "metadata": {},
   "outputs": [
    {
     "data": {
      "text/plain": [
       "<matplotlib.colorbar.Colorbar at 0x1cd66479748>"
      ]
     },
     "execution_count": 16,
     "metadata": {},
     "output_type": "execute_result"
    },
    {
     "data": {
      "image/png": "[encoded data removed]",
      "text/plain": [
       "<Figure size 432x288 with 2 Axes>"
      ]
     },
     "metadata": {
      "needs_background": "light"
     },
     "output_type": "display_data"
    }
   ],
   "source": [
    "plt.figure()\n",
    "librosa.display.specshow(librosa.power_to_db(noise_img, ref=np.max))\n",
    "plt.colorbar()"
   ]
  },
  {
   "cell_type": "markdown",
   "metadata": {},
   "source": [
    "We can convert the noisy mel spectrogram back to magnitude spectrogram , then save it out to a wav file to hear. Warning: The below code will take some time to run. "
   ]
  },
  {
   "cell_type": "code",
   "execution_count": 105,
   "metadata": {},
   "outputs": [],
   "source": [
    "# noise_S = librosa.feature.inverse.mel_to_stft(noise_img)\n",
    "# noise_y = librosa.griffinlim(S)\n",
    "# sf.write('noise_hello.wav', noise_y, fs)"
   ]
  },
  {
   "cell_type": "markdown",
   "metadata": {},
   "source": [
    "Let's store the noisy mel spectrogram and the original mel spectrogram for training. "
   ]
  },
  {
   "cell_type": "code",
   "execution_count": 17,
   "metadata": {},
   "outputs": [],
   "source": [
    "train_x = noise_img[np.newaxis,:,:]\n",
    "train_y = M[np.newaxis,:,:]"
   ]
  },
  {
   "cell_type": "markdown",
   "metadata": {},
   "source": [
    "### Build/Train Multilayer Autoencoder <a class=\"anchor\" id=\"build_mae\"></a>\n",
    "\n",
    "Now that we have the data ready. Let's build the Multilayer Autoencoder. Multilayer autoencoder structure wise has more than one hidden layers. By having multiple hidden layers, the neural network model is able to learn non-linear and more complex features compared to its one layer flavor. "
   ]
  },
  {
   "cell_type": "code",
   "execution_count": 18,
   "metadata": {},
   "outputs": [],
   "source": [
    "def build_autoencoder(img_shape, code_size):\n",
    "    # The encoder\n",
    "    encoder = Sequential()\n",
    "    encoder.add(InputLayer(img_shape))\n",
    "    encoder.add(Flatten())\n",
    "    encoder.add(Dense(code_size, activation='relu'))\n",
    "    encoder.add(Dense(code_size, activation='relu'))\n",
    "\n",
    "    # The decoder\n",
    "    decoder = Sequential()\n",
    "    decoder.add(InputLayer((code_size,)))\n",
    "    encoder.add(Dense(code_size, activation='relu'))\n",
    "    decoder.add(Dense(np.prod(img_shape))) # np.prod(img_shape) is the same as 32*32*3, it's more generic than saying 3072\n",
    "    decoder.add(Reshape(img_shape))\n",
    "\n",
    "    return encoder, decoder"
   ]
  },
  {
   "cell_type": "code",
   "execution_count": 19,
   "metadata": {},
   "outputs": [],
   "source": [
    "IMG_SHAPE = train_x[0].shape\n",
    "\n",
    "encoder, decoder = build_autoencoder(IMG_SHAPE, 1000)\n",
    "inp = Input(IMG_SHAPE)\n",
    "code = encoder(inp)\n",
    "reconstruction = decoder(code)\n",
    "\n",
    "autoencoder = Model(inp,reconstruction)\n",
    "autoencoder.compile(optimizer='adamax', loss='mse')"
   ]
  },
  {
   "cell_type": "markdown",
   "metadata": {},
   "source": [
    "Try training the autoencoder for 100 epochs, then try a higher epoch size to see if you get any improvement. "
   ]
  },
  {
   "cell_type": "code",
   "execution_count": 20,
   "metadata": {},
   "outputs": [
    {
     "name": "stdout",
     "output_type": "stream",
     "text": [
      "Epoch 1/100\n",
      "1/1 [==============================] - 0s 147ms/step - loss: 466.5654\n",
      "Epoch 2/100\n",
      "1/1 [==============================] - 0s 10ms/step - loss: 1034.6996\n",
      "Epoch 3/100\n",
      "1/1 [==============================] - 0s 12ms/step - loss: 136.0894\n",
      "Epoch 4/100\n",
      "1/1 [==============================] - 0s 11ms/step - loss: 49.5141\n",
      "Epoch 5/100\n",
      "1/1 [==============================] - 0s 13ms/step - loss: 20.2967\n",
      "Epoch 6/100\n",
      "1/1 [==============================] - 0s 12ms/step - loss: 12.8350\n",
      "Epoch 7/100\n",
      "1/1 [==============================] - 0s 12ms/step - loss: 11.5003\n",
      "Epoch 8/100\n",
      "1/1 [==============================] - 0s 10ms/step - loss: 11.4260\n",
      "Epoch 9/100\n",
      "1/1 [==============================] - 0s 12ms/step - loss: 11.3199\n",
      "Epoch 10/100\n",
      "1/1 [==============================] - 0s 13ms/step - loss: 11.2281\n",
      "Epoch 11/100\n",
      "1/1 [==============================] - 0s 12ms/step - loss: 11.1986\n",
      "Epoch 12/100\n",
      "1/1 [==============================] - 0s 12ms/step - loss: 11.1691\n",
      "Epoch 13/100\n",
      "1/1 [==============================] - 0s 11ms/step - loss: 11.1532\n",
      "Epoch 14/100\n",
      "1/1 [==============================] - 0s 14ms/step - loss: 11.1506\n",
      "Epoch 15/100\n",
      "1/1 [==============================] - 0s 12ms/step - loss: 11.0831\n",
      "Epoch 16/100\n",
      "1/1 [==============================] - 0s 10ms/step - loss: 11.0444\n",
      "Epoch 17/100\n",
      "1/1 [==============================] - 0s 12ms/step - loss: 10.9812\n",
      "Epoch 18/100\n",
      "1/1 [==============================] - 0s 12ms/step - loss: 10.9258\n",
      "Epoch 19/100\n",
      "1/1 [==============================] - 0s 12ms/step - loss: 10.8269\n",
      "Epoch 20/100\n",
      "1/1 [==============================] - 0s 11ms/step - loss: 10.7209\n",
      "Epoch 21/100\n",
      "1/1 [==============================] - 0s 11ms/step - loss: 10.6157\n",
      "Epoch 22/100\n",
      "1/1 [==============================] - 0s 12ms/step - loss: 10.4426\n",
      "Epoch 23/100\n",
      "1/1 [==============================] - 0s 11ms/step - loss: 10.2579\n",
      "Epoch 24/100\n",
      "1/1 [==============================] - 0s 12ms/step - loss: 10.0030\n",
      "Epoch 25/100\n",
      "1/1 [==============================] - 0s 11ms/step - loss: 9.6892\n",
      "Epoch 26/100\n",
      "1/1 [==============================] - 0s 11ms/step - loss: 9.3206\n",
      "Epoch 27/100\n",
      "1/1 [==============================] - 0s 11ms/step - loss: 8.8832\n",
      "Epoch 28/100\n",
      "1/1 [==============================] - 0s 13ms/step - loss: 8.3936\n",
      "Epoch 29/100\n",
      "1/1 [==============================] - 0s 12ms/step - loss: 7.8580\n",
      "Epoch 30/100\n",
      "1/1 [==============================] - 0s 11ms/step - loss: 7.2623\n",
      "Epoch 31/100\n",
      "1/1 [==============================] - 0s 12ms/step - loss: 6.6893\n",
      "Epoch 32/100\n",
      "1/1 [==============================] - 0s 11ms/step - loss: 6.1432\n",
      "Epoch 33/100\n",
      "1/1 [==============================] - 0s 11ms/step - loss: 5.6751\n",
      "Epoch 34/100\n",
      "1/1 [==============================] - 0s 12ms/step - loss: 5.2967\n",
      "Epoch 35/100\n",
      "1/1 [==============================] - 0s 11ms/step - loss: 4.9750\n",
      "Epoch 36/100\n",
      "1/1 [==============================] - 0s 10ms/step - loss: 4.6957\n",
      "Epoch 37/100\n",
      "1/1 [==============================] - 0s 10ms/step - loss: 4.4306\n",
      "Epoch 38/100\n",
      "1/1 [==============================] - 0s 12ms/step - loss: 4.1847\n",
      "Epoch 39/100\n",
      "1/1 [==============================] - 0s 11ms/step - loss: 3.9618\n",
      "Epoch 40/100\n",
      "1/1 [==============================] - 0s 12ms/step - loss: 3.7470\n",
      "Epoch 41/100\n",
      "1/1 [==============================] - 0s 11ms/step - loss: 3.5358\n",
      "Epoch 42/100\n",
      "1/1 [==============================] - 0s 12ms/step - loss: 3.3141\n",
      "Epoch 43/100\n",
      "1/1 [==============================] - 0s 12ms/step - loss: 3.0997\n",
      "Epoch 44/100\n",
      "1/1 [==============================] - 0s 11ms/step - loss: 2.8897\n",
      "Epoch 45/100\n",
      "1/1 [==============================] - 0s 12ms/step - loss: 2.6927\n",
      "Epoch 46/100\n",
      "1/1 [==============================] - 0s 12ms/step - loss: 2.5106\n",
      "Epoch 47/100\n",
      "1/1 [==============================] - 0s 12ms/step - loss: 2.3265\n",
      "Epoch 48/100\n",
      "1/1 [==============================] - 0s 11ms/step - loss: 2.1431\n",
      "Epoch 49/100\n",
      "1/1 [==============================] - 0s 12ms/step - loss: 1.9819\n",
      "Epoch 50/100\n",
      "1/1 [==============================] - 0s 12ms/step - loss: 1.8267\n",
      "Epoch 51/100\n",
      "1/1 [==============================] - 0s 9ms/step - loss: 1.6771\n",
      "Epoch 52/100\n",
      "1/1 [==============================] - 0s 11ms/step - loss: 1.5328\n",
      "Epoch 53/100\n",
      "1/1 [==============================] - 0s 11ms/step - loss: 1.3901\n",
      "Epoch 54/100\n",
      "1/1 [==============================] - 0s 11ms/step - loss: 1.2508\n",
      "Epoch 55/100\n",
      "1/1 [==============================] - 0s 10ms/step - loss: 1.1154\n",
      "Epoch 56/100\n",
      "1/1 [==============================] - 0s 11ms/step - loss: 0.9867\n",
      "Epoch 57/100\n",
      "1/1 [==============================] - 0s 12ms/step - loss: 0.8664\n",
      "Epoch 58/100\n",
      "1/1 [==============================] - 0s 10ms/step - loss: 0.7541\n",
      "Epoch 59/100\n",
      "1/1 [==============================] - 0s 11ms/step - loss: 0.6518\n",
      "Epoch 60/100\n",
      "1/1 [==============================] - 0s 12ms/step - loss: 0.5624\n",
      "Epoch 61/100\n",
      "1/1 [==============================] - 0s 12ms/step - loss: 0.4810\n",
      "Epoch 62/100\n",
      "1/1 [==============================] - 0s 10ms/step - loss: 0.4118\n",
      "Epoch 63/100\n",
      "1/1 [==============================] - 0s 13ms/step - loss: 0.3529\n",
      "Epoch 64/100\n",
      "1/1 [==============================] - 0s 11ms/step - loss: 0.3020\n",
      "Epoch 65/100\n",
      "1/1 [==============================] - 0s 11ms/step - loss: 0.2601\n",
      "Epoch 66/100\n",
      "1/1 [==============================] - 0s 10ms/step - loss: 0.2263\n",
      "Epoch 67/100\n",
      "1/1 [==============================] - 0s 12ms/step - loss: 0.1984\n",
      "Epoch 68/100\n",
      "1/1 [==============================] - 0s 12ms/step - loss: 0.1766\n",
      "Epoch 69/100\n",
      "1/1 [==============================] - 0s 11ms/step - loss: 0.1574\n",
      "Epoch 70/100\n",
      "1/1 [==============================] - 0s 10ms/step - loss: 0.1407\n",
      "Epoch 71/100\n",
      "1/1 [==============================] - 0s 12ms/step - loss: 0.1249\n",
      "Epoch 72/100\n",
      "1/1 [==============================] - 0s 12ms/step - loss: 0.1101\n",
      "Epoch 73/100\n",
      "1/1 [==============================] - 0s 10ms/step - loss: 0.0968\n",
      "Epoch 74/100\n",
      "1/1 [==============================] - 0s 11ms/step - loss: 0.0848\n",
      "Epoch 75/100\n",
      "1/1 [==============================] - 0s 11ms/step - loss: 0.0748\n",
      "Epoch 76/100\n",
      "1/1 [==============================] - 0s 10ms/step - loss: 0.0663\n",
      "Epoch 77/100\n",
      "1/1 [==============================] - 0s 12ms/step - loss: 0.0586\n",
      "Epoch 78/100\n",
      "1/1 [==============================] - 0s 11ms/step - loss: 0.0518\n",
      "Epoch 79/100\n",
      "1/1 [==============================] - 0s 10ms/step - loss: 0.0456\n",
      "Epoch 80/100\n",
      "1/1 [==============================] - 0s 12ms/step - loss: 0.0405\n",
      "Epoch 81/100\n",
      "1/1 [==============================] - 0s 11ms/step - loss: 0.0363\n",
      "Epoch 82/100\n",
      "1/1 [==============================] - 0s 9ms/step - loss: 0.0330\n",
      "Epoch 83/100\n",
      "1/1 [==============================] - 0s 11ms/step - loss: 0.0303\n",
      "Epoch 84/100\n",
      "1/1 [==============================] - 0s 12ms/step - loss: 0.0279\n",
      "Epoch 85/100\n",
      "1/1 [==============================] - 0s 9ms/step - loss: 0.0259\n",
      "Epoch 86/100\n",
      "1/1 [==============================] - 0s 11ms/step - loss: 0.0242\n",
      "Epoch 87/100\n",
      "1/1 [==============================] - 0s 12ms/step - loss: 0.0227\n",
      "Epoch 88/100\n",
      "1/1 [==============================] - 0s 10ms/step - loss: 0.0214\n",
      "Epoch 89/100\n",
      "1/1 [==============================] - 0s 10ms/step - loss: 0.0200\n",
      "Epoch 90/100\n",
      "1/1 [==============================] - 0s 12ms/step - loss: 0.0186\n",
      "Epoch 91/100\n",
      "1/1 [==============================] - 0s 10ms/step - loss: 0.0171\n",
      "Epoch 92/100\n",
      "1/1 [==============================] - 0s 11ms/step - loss: 0.0156\n",
      "Epoch 93/100\n",
      "1/1 [==============================] - 0s 12ms/step - loss: 0.0141\n",
      "Epoch 94/100\n",
      "1/1 [==============================] - 0s 10ms/step - loss: 0.0126\n",
      "Epoch 95/100\n",
      "1/1 [==============================] - 0s 10ms/step - loss: 0.0110\n",
      "Epoch 96/100\n",
      "1/1 [==============================] - 0s 12ms/step - loss: 0.0095\n",
      "Epoch 97/100\n",
      "1/1 [==============================] - 0s 12ms/step - loss: 0.0081\n",
      "Epoch 98/100\n",
      "1/1 [==============================] - 0s 11ms/step - loss: 0.0069\n",
      "Epoch 99/100\n",
      "1/1 [==============================] - 0s 11ms/step - loss: 0.0058\n",
      "Epoch 100/100\n",
      "1/1 [==============================] - 0s 11ms/step - loss: 0.0050\n"
     ]
    }
   ],
   "source": [
    "history = autoencoder.fit(x=train_x, y=train_y, epochs=100)"
   ]
  },
  {
   "cell_type": "code",
   "execution_count": 21,
   "metadata": {
    "scrolled": true
   },
   "outputs": [
    {
     "data": {
      "text/plain": [
       "<matplotlib.image.AxesImage at 0x1cd6694e148>"
      ]
     },
     "execution_count": 21,
     "metadata": {},
     "output_type": "execute_result"
    },
    {
     "data": {
      "image/png": "[encoded data removed]",
      "text/plain": [
       "<Figure size 432x288 with 3 Axes>"
      ]
     },
     "metadata": {
      "needs_background": "light"
     },
     "output_type": "display_data"
    }
   ],
   "source": [
    "img = noise_img\n",
    "code = encoder.predict(img[None])[0]\n",
    "reco = decoder.predict(code[None])[0]\n",
    "\n",
    "plt.subplot(1,3,1)\n",
    "plt.title(\"Noise\")\n",
    "plt.imshow(img)\n",
    "\n",
    "plt.subplot(1,3,2)\n",
    "plt.title(\"Actual\")\n",
    "plt.imshow(M)\n",
    "\n",
    "plt.subplot(1,3,3)\n",
    "plt.title(\"Reconstructed\")\n",
    "plt.imshow(reco)"
   ]
  },
  {
   "cell_type": "markdown",
   "metadata": {},
   "source": [
    "Visualizing our Noisy, Actual, and Reconstructed of our \"hello\" wav file, we can see that after 100 epochs of training we were able to remove the intensity of the salt & pepper noise and reduce the artifact created around our signal. \n",
    "\n",
    "Below we can convert the reconstructed signal to a magnitude spectrogram, and save it out to a wav file for a audio test. Warning: the conversion from mel to a magnitude spectrogram will take a long time to run. "
   ]
  },
  {
   "cell_type": "code",
   "execution_count": 110,
   "metadata": {},
   "outputs": [],
   "source": [
    "# recon_S = librosa.feature.inverse.mel_to_stft(reco*255)\n",
    "# recon_y = librosa.griffinlim(recon_S)\n",
    "\n",
    "# # write output\n",
    "# sf.write('reconstructed_noise_hello.wav', recon_y, fs)"
   ]
  },
  {
   "cell_type": "markdown",
   "metadata": {},
   "source": [
    "You can listen to all the wav files for the Actual, Noisy, and Reconstructed signal from the Autoencoder after 100 epochs of training. "
   ]
  },
  {
   "cell_type": "markdown",
   "metadata": {},
   "source": [
    "<table>\n",
    "<tr>\n",
    "<td> <audio controls src='./audio/hello.wav' title='Hello Audio' /> </td>\n",
    "<td> <img src='./images/hello_normal.jpg' style='width: 50%' title='Normal Audio Spectrogram' /> </td>\n",
    "</tr>\n",
    "<tr>\n",
    "<td> <audio controls src='./audio/noise_hello.wav' title='Noisy Hello Audio' /> </td>\n",
    "<td> <img src='./images/hello_noise.jpg' style='width: 50%' title='Noisy Audio Spectrogram' /> </td>\n",
    "</tr>\n",
    "<tr>\n",
    "<td> <audio controls src='./audio/reconstructed_noise_hello.wav' title='Recon Audio' /> </td>\n",
    "<td> <img src='./images/hello_recon.jpg' style='width: 50%' title='Recon Audio Spectrogram' /> </td>\n",
    "</tr>\n",
    "</table>"
   ]
  },
  {
   "cell_type": "markdown",
   "metadata": {},
   "source": [
    "### Acoustic Dataset <a class=\"anchor\" id=\"acoustic_data\"></a>"
   ]
  },
  {
   "cell_type": "markdown",
   "metadata": {},
   "source": [
    "The \"hello\" wav file was just one acoustic example that we explored in the last section. In this section we will bring in more acoustic samples. Since, we do not have a public dataset of multiple people saying \"hello\" , we can look towards our furry friends' \"hello\" audio. \n",
    "\n",
    "The [Audio Cats and Dogs](https://www.kaggle.com/mmoreaux/audio-cats-and-dogs) Kaggle datset was a nod to the \"cats and dogs\" image classification dataset. This dataset has both cats and dogs audio for people to create models to classify raw sound events. We will take these audio files, add noise to it, so we can create an Autoencoder. \n",
    "\n",
    "For tutorial purposes, we will only pick one of our furry friends audio. I have chosen to extract out all training and testing dataset for dogs. Feel free to play with other audio set if you want to experiment. "
   ]
  },
  {
   "cell_type": "code",
   "execution_count": 22,
   "metadata": {},
   "outputs": [],
   "source": [
    "import os\n",
    "\n",
    "dog_train_directory = \"./cats_dogs/train/dog\"\n",
    "dog_train_files = []\n",
    "for path, subdirs, files in os.walk(dog_train_directory):\n",
    "    for name in files:\n",
    "        if name.endswith('wav'):\n",
    "            dog_train_files.append( os.path.join(path, name) )\n",
    "            \n",
    "dog_test_directory = \"./cats_dogs/test/dog\"\n",
    "dog_test_files = []\n",
    "for path, subdirs, files in os.walk(dog_test_directory):\n",
    "    for name in files:\n",
    "        if name.endswith('wav'):\n",
    "            dog_test_files.append( os.path.join(path, name) )"
   ]
  },
  {
   "cell_type": "markdown",
   "metadata": {},
   "source": [
    "Create a data generator, so we don't have to load and store all the data in to memory. The data generator will only read in the necessary batch size of data for the model we design in to memory during training. In the generator, we implemented a piece of the code to inject the salt and pepper noise on to our mel spectrogram. "
   ]
  },
  {
   "cell_type": "code",
   "execution_count": 25,
   "metadata": {},
   "outputs": [],
   "source": [
    "class DataGenerator(keras.utils.Sequence):\n",
    "    def __init__(self, dim, filenames, shuffle, batch_size):\n",
    "        self.dim = dim\n",
    "        self.filenames = filenames\n",
    "        self.shuffle = shuffle\n",
    "        self.batch_size = batch_size\n",
    "        self.list_IDs  = range(len(filenames))\n",
    "        self.on_epoch_end()\n",
    "        \n",
    "    def __len__(self):\n",
    "        return len(self.filenames)\n",
    "    \n",
    "    def __getitem__(self, index):\n",
    "        'Generate one batch of data'\n",
    "        # Generate indexes of the batch\n",
    "        indexes = self.list_IDs[index*self.batch_size:(index+1)*self.batch_size]\n",
    "\n",
    "        # Find list of IDs\n",
    "        list_IDs_temp = [self.list_IDs [k] for k in indexes]\n",
    "\n",
    "        # Generate data\n",
    "        X, y = self.__data_generation(list_IDs_temp)\n",
    "\n",
    "        return X, y\n",
    "    \n",
    "    def on_epoch_end(self):\n",
    "        self.indexes = np.arange(len(self.list_IDs))\n",
    "        if self.shuffle == True:\n",
    "            np.random.shuffle(self.indexes)\n",
    "        \n",
    "    def __data_generation(self, list_IDs_temp):\n",
    "        'Generates data containing batch_size samples' # X : (n_samples, *dim, n_channels)\n",
    "        # Initialization\n",
    "        X = np.empty((self.batch_size, self.dim[0], self.dim[0], 1))\n",
    "        y = np.empty((self.batch_size, self.dim[0], self.dim[0], 1))\n",
    "\n",
    "        # Generate data\n",
    "        for i, ID in enumerate(list_IDs_temp):\n",
    "            sig, fs = librosa.load(self.filenames[ID], duration=4)  \n",
    "            M = librosa.feature.melspectrogram(y=sig, sr=fs)\n",
    "            M = M[:self.dim[0],:self.dim[1]]\n",
    "            pad_row=max(0,self.dim[0]-M.shape[0])\n",
    "            #pad_col=max(0,self.dim[1]-M.shape[1])\n",
    "            pad_col=max(0,self.dim[0]-M.shape[1])\n",
    "            M = np.pad(M,((0,pad_row),(0,pad_col)),'constant')\n",
    "            noise_img = random_noise(M, mode='s&p',amount=0.2)\n",
    "            noise_img = np.array(M.max()*noise_img, dtype = 'float32')\n",
    "            # Store noisy spectrogram\n",
    "            X[i,] = noise_img[..., np.newaxis]\n",
    "            # Store original spectrogram\n",
    "            y[i] = M[..., np.newaxis]\n",
    "\n",
    "        return X, y"
   ]
  },
  {
   "cell_type": "markdown",
   "metadata": {},
   "source": [
    "Create the training and testing generator for our dog friend"
   ]
  },
  {
   "cell_type": "code",
   "execution_count": 26,
   "metadata": {},
   "outputs": [],
   "source": [
    "train_params = {'dim': (128,128),\n",
    "         'filenames': dog_train_files,\n",
    "         'batch_size': 16,\n",
    "         'shuffle': True}\n",
    "test_params = {'dim': (128,128),\n",
    "         'filenames': dog_test_files,\n",
    "         'batch_size': 16,\n",
    "         'shuffle': True}\n",
    "training_generator = DataGenerator(**train_params)\n",
    "testing_generator = DataGenerator(**test_params)"
   ]
  },
  {
   "cell_type": "markdown",
   "metadata": {},
   "source": [
    "Rebuild the same Multilayer Autoencoder that we used for our \"hello\" sample. "
   ]
  },
  {
   "cell_type": "code",
   "execution_count": 27,
   "metadata": {},
   "outputs": [],
   "source": [
    "def build_autoencoder(img_shape, code_size):\n",
    "    # The encoder\n",
    "    encoder = Sequential()\n",
    "    encoder.add(InputLayer(img_shape))\n",
    "    encoder.add(Flatten())\n",
    "    encoder.add(Dense(code_size, activation='relu'))\n",
    "    encoder.add(Dense(code_size, activation='relu'))\n",
    "\n",
    "    # The decoder\n",
    "    decoder = Sequential()\n",
    "    decoder.add(InputLayer((code_size,)))\n",
    "    decoder.add(Dense(code_size)) # np.prod(img_shape) is the same as 32*32*3, it's more generic than saying 3072\n",
    "    decoder.add(Dense(np.prod(img_shape)))\n",
    "    decoder.add(Reshape(img_shape))\n",
    "\n",
    "    return encoder, decoder\n",
    "\n",
    "IMG_SHAPE = (img.shape[0], img.shape[0],1)\n",
    "\n",
    "encoder, decoder = build_autoencoder(IMG_SHAPE, 1000)\n",
    "inp = Input(IMG_SHAPE)\n",
    "code = encoder(inp)\n",
    "reconstruction = decoder(code)\n",
    "\n",
    "autoencoder = Model(inp,reconstruction)\n",
    "autoencoder.compile(optimizer='adamax', loss='mse', metrics=['accuracy'])"
   ]
  },
  {
   "cell_type": "markdown",
   "metadata": {},
   "source": [
    "Train on the dog noisy audio dataset that we have craeted. "
   ]
  },
  {
   "cell_type": "code",
   "execution_count": 28,
   "metadata": {
    "scrolled": true
   },
   "outputs": [
    {
     "name": "stdout",
     "output_type": "stream",
     "text": [
      "Epoch 1/100\n",
      "85/85 [==============================] - 7s 82ms/step - loss: 74250.5143 - accuracy: 0.9375 - val_loss: 5.1723e-06 - val_accuracy: 0.9375\n",
      "Epoch 2/100\n",
      "85/85 [==============================] - 7s 81ms/step - loss: 3194.0413 - accuracy: 0.9375 - val_loss: 5.9919e-06 - val_accuracy: 0.9376\n",
      "Epoch 3/100\n",
      "85/85 [==============================] - 7s 84ms/step - loss: 493.5549 - accuracy: 0.9376 - val_loss: 6.5342e-06 - val_accuracy: 0.9376\n",
      "Epoch 4/100\n",
      "85/85 [==============================] - 7s 78ms/step - loss: 352.0884 - accuracy: 0.9376 - val_loss: 6.6330e-06 - val_accuracy: 0.9376\n",
      "Epoch 5/100\n",
      "85/85 [==============================] - 7s 79ms/step - loss: 327.0528 - accuracy: 0.9376 - val_loss: 7.0690e-06 - val_accuracy: 0.9376\n",
      "Epoch 6/100\n",
      "85/85 [==============================] - 7s 80ms/step - loss: 301.7560 - accuracy: 0.9377 - val_loss: 7.5455e-06 - val_accuracy: 0.9376\n",
      "Epoch 7/100\n",
      "85/85 [==============================] - 7s 80ms/step - loss: 284.7788 - accuracy: 0.9377 - val_loss: 7.7492e-06 - val_accuracy: 0.9376\n",
      "Epoch 8/100\n",
      "85/85 [==============================] - 7s 83ms/step - loss: 277.5160 - accuracy: 0.9377 - val_loss: 8.3400e-06 - val_accuracy: 0.9376\n",
      "Epoch 9/100\n",
      "85/85 [==============================] - 7s 81ms/step - loss: 274.6981 - accuracy: 0.9377 - val_loss: 8.4931e-06 - val_accuracy: 0.9376\n",
      "Epoch 10/100\n",
      "85/85 [==============================] - 7s 81ms/step - loss: 256.3273 - accuracy: 0.9377 - val_loss: 8.3067e-06 - val_accuracy: 0.9376\n",
      "Epoch 11/100\n",
      "85/85 [==============================] - 7s 81ms/step - loss: 323.0472 - accuracy: 0.9376 - val_loss: 6.5126e-06 - val_accuracy: 0.9377\n",
      "Epoch 12/100\n",
      "85/85 [==============================] - 7s 79ms/step - loss: 247.7808 - accuracy: 0.9378 - val_loss: 5.4879e-06 - val_accuracy: 0.9377\n",
      "Epoch 13/100\n",
      "85/85 [==============================] - 7s 80ms/step - loss: 242.1774 - accuracy: 0.9379 - val_loss: 5.4616e-06 - val_accuracy: 0.9377\n",
      "Epoch 14/100\n",
      "85/85 [==============================] - 7s 84ms/step - loss: 238.8614 - accuracy: 0.9378 - val_loss: 6.2897e-06 - val_accuracy: 0.9377\n",
      "Epoch 15/100\n",
      "85/85 [==============================] - 7s 79ms/step - loss: 233.7910 - accuracy: 0.9379 - val_loss: 7.3241e-06 - val_accuracy: 0.9377\n",
      "Epoch 16/100\n",
      "85/85 [==============================] - 7s 81ms/step - loss: 229.9505 - accuracy: 0.9379 - val_loss: 8.4711e-06 - val_accuracy: 0.9378\n",
      "Epoch 17/100\n",
      "85/85 [==============================] - 7s 80ms/step - loss: 228.3645 - accuracy: 0.9380 - val_loss: 9.9880e-06 - val_accuracy: 0.9377\n",
      "Epoch 18/100\n",
      "85/85 [==============================] - 7s 80ms/step - loss: 225.6067 - accuracy: 0.9380 - val_loss: 1.1444e-05 - val_accuracy: 0.9378\n",
      "Epoch 19/100\n",
      "85/85 [==============================] - 7s 82ms/step - loss: 231.1236 - accuracy: 0.9378 - val_loss: 1.1066e-05 - val_accuracy: 0.9381\n",
      "Epoch 20/100\n",
      "85/85 [==============================] - 7s 83ms/step - loss: 222.1707 - accuracy: 0.9380 - val_loss: 1.2822e-05 - val_accuracy: 0.9378\n",
      "Epoch 21/100\n",
      "85/85 [==============================] - 7s 83ms/step - loss: 212.8222 - accuracy: 0.9381 - val_loss: 1.5090e-05 - val_accuracy: 0.9378\n",
      "Epoch 22/100\n",
      "85/85 [==============================] - 7s 81ms/step - loss: 216.4059 - accuracy: 0.9380 - val_loss: 1.7760e-05 - val_accuracy: 0.9379\n",
      "Epoch 23/100\n",
      "85/85 [==============================] - 7s 85ms/step - loss: 203.0169 - accuracy: 0.9381 - val_loss: 2.1507e-05 - val_accuracy: 0.9378\n",
      "Epoch 24/100\n",
      "85/85 [==============================] - 7s 82ms/step - loss: 194.4211 - accuracy: 0.9381 - val_loss: 2.2643e-05 - val_accuracy: 0.9380\n",
      "Epoch 25/100\n",
      "85/85 [==============================] - 7s 81ms/step - loss: 399.4943 - accuracy: 0.9377 - val_loss: 3.8137e-05 - val_accuracy: 0.9378\n",
      "Epoch 26/100\n",
      "85/85 [==============================] - 7s 85ms/step - loss: 229.9969 - accuracy: 0.9379 - val_loss: 4.3042e-05 - val_accuracy: 0.9378\n",
      "Epoch 27/100\n",
      "85/85 [==============================] - 7s 82ms/step - loss: 201.6724 - accuracy: 0.9383 - val_loss: 5.0144e-05 - val_accuracy: 0.9386\n",
      "Epoch 28/100\n",
      "85/85 [==============================] - 7s 84ms/step - loss: 190.6642 - accuracy: 0.9382 - val_loss: 5.9688e-05 - val_accuracy: 0.9384\n",
      "Epoch 29/100\n",
      "85/85 [==============================] - 7s 83ms/step - loss: 182.4905 - accuracy: 0.9387 - val_loss: 6.7386e-05 - val_accuracy: 0.9381\n",
      "Epoch 30/100\n",
      "85/85 [==============================] - 7s 82ms/step - loss: 192.9264 - accuracy: 0.9379 - val_loss: 7.9394e-05 - val_accuracy: 0.9378\n",
      "Epoch 31/100\n",
      "85/85 [==============================] - 7s 80ms/step - loss: 203.0284 - accuracy: 0.9381 - val_loss: 9.1579e-05 - val_accuracy: 0.9380\n",
      "Epoch 32/100\n",
      "85/85 [==============================] - 7s 82ms/step - loss: 188.6743 - accuracy: 0.9384 - val_loss: 9.6225e-05 - val_accuracy: 0.9380\n",
      "Epoch 33/100\n",
      "85/85 [==============================] - 7s 79ms/step - loss: 195.4574 - accuracy: 0.9383 - val_loss: 1.0588e-04 - val_accuracy: 0.9390\n",
      "Epoch 34/100\n",
      "85/85 [==============================] - 7s 79ms/step - loss: 164.2937 - accuracy: 0.9404 - val_loss: 1.2254e-04 - val_accuracy: 0.9392\n",
      "Epoch 35/100\n",
      "85/85 [==============================] - 7s 77ms/step - loss: 153.5390 - accuracy: 0.9400 - val_loss: 1.3847e-04 - val_accuracy: 0.9386\n",
      "Epoch 36/100\n",
      "85/85 [==============================] - 7s 79ms/step - loss: 152.3370 - accuracy: 0.9406 - val_loss: 1.6229e-04 - val_accuracy: 0.9394\n",
      "Epoch 37/100\n",
      "85/85 [==============================] - 7s 82ms/step - loss: 174.9489 - accuracy: 0.9407 - val_loss: 1.8331e-04 - val_accuracy: 0.9381\n",
      "Epoch 38/100\n",
      "85/85 [==============================] - 7s 82ms/step - loss: 149.5638 - accuracy: 0.9394 - val_loss: 2.0968e-04 - val_accuracy: 0.9398\n",
      "Epoch 39/100\n",
      "85/85 [==============================] - 7s 78ms/step - loss: 172.1615 - accuracy: 0.9406 - val_loss: 2.2956e-04 - val_accuracy: 0.9387\n",
      "Epoch 40/100\n",
      "85/85 [==============================] - 7s 81ms/step - loss: 212.8671 - accuracy: 0.9380 - val_loss: 2.6107e-04 - val_accuracy: 0.9378\n",
      "Epoch 41/100\n",
      "85/85 [==============================] - 7s 80ms/step - loss: 247.1994 - accuracy: 0.9380 - val_loss: 2.9393e-04 - val_accuracy: 0.9386\n",
      "Epoch 42/100\n",
      "85/85 [==============================] - 7s 80ms/step - loss: 236.4413 - accuracy: 0.9388 - val_loss: 3.2465e-04 - val_accuracy: 0.9393\n",
      "Epoch 43/100\n",
      "85/85 [==============================] - 7s 79ms/step - loss: 238.6007 - accuracy: 0.9401 - val_loss: 3.5780e-04 - val_accuracy: 0.9403\n",
      "Epoch 44/100\n",
      "85/85 [==============================] - 7s 81ms/step - loss: 239.0887 - accuracy: 0.9404 - val_loss: 3.8781e-04 - val_accuracy: 0.9401\n",
      "Epoch 45/100\n",
      "85/85 [==============================] - 7s 79ms/step - loss: 235.7382 - accuracy: 0.9411 - val_loss: 4.3436e-04 - val_accuracy: 0.9396\n",
      "Epoch 46/100\n",
      "85/85 [==============================] - 7s 79ms/step - loss: 218.5467 - accuracy: 0.9416 - val_loss: 4.7764e-04 - val_accuracy: 0.9415\n",
      "Epoch 47/100\n",
      "85/85 [==============================] - 7s 80ms/step - loss: 231.1197 - accuracy: 0.9418 - val_loss: 5.2128e-04 - val_accuracy: 0.9415\n",
      "Epoch 48/100\n",
      "85/85 [==============================] - 7s 80ms/step - loss: 230.8209 - accuracy: 0.9414 - val_loss: 5.8211e-04 - val_accuracy: 0.9395\n",
      "Epoch 49/100\n",
      "85/85 [==============================] - 7s 80ms/step - loss: 236.1105 - accuracy: 0.9417 - val_loss: 6.4056e-04 - val_accuracy: 0.9415\n",
      "Epoch 50/100\n",
      "85/85 [==============================] - 7s 80ms/step - loss: 236.9497 - accuracy: 0.9418 - val_loss: 6.8959e-04 - val_accuracy: 0.9415\n",
      "Epoch 51/100\n",
      "85/85 [==============================] - 7s 80ms/step - loss: 236.1957 - accuracy: 0.9415 - val_loss: 7.7089e-04 - val_accuracy: 0.9406\n",
      "Epoch 52/100\n",
      "85/85 [==============================] - 7s 80ms/step - loss: 237.6482 - accuracy: 0.9406 - val_loss: 8.3965e-04 - val_accuracy: 0.9392\n",
      "Epoch 53/100\n",
      "85/85 [==============================] - 7s 77ms/step - loss: 237.5805 - accuracy: 0.9398 - val_loss: 9.0249e-04 - val_accuracy: 0.9377\n",
      "Epoch 54/100\n",
      "85/85 [==============================] - 7s 86ms/step - loss: 317.7048 - accuracy: 0.9390 - val_loss: 8.3440e-04 - val_accuracy: 0.9376\n",
      "Epoch 55/100\n",
      "85/85 [==============================] - 7s 81ms/step - loss: 300.6608 - accuracy: 0.9378 - val_loss: 6.4108e-04 - val_accuracy: 0.9408\n",
      "Epoch 56/100\n"
     ]
    },
    {
     "name": "stdout",
     "output_type": "stream",
     "text": [
      "85/85 [==============================] - 7s 81ms/step - loss: 236.4977 - accuracy: 0.9414 - val_loss: 6.2797e-04 - val_accuracy: 0.9415\n",
      "Epoch 57/100\n",
      "85/85 [==============================] - 7s 82ms/step - loss: 235.7050 - accuracy: 0.9424 - val_loss: 6.5405e-04 - val_accuracy: 0.9415\n",
      "Epoch 58/100\n",
      "85/85 [==============================] - 7s 81ms/step - loss: 235.6418 - accuracy: 0.9424 - val_loss: 6.9131e-04 - val_accuracy: 0.9415\n",
      "Epoch 59/100\n",
      "85/85 [==============================] - 7s 81ms/step - loss: 233.7591 - accuracy: 0.9424 - val_loss: 7.3990e-04 - val_accuracy: 0.9415\n",
      "Epoch 60/100\n",
      "85/85 [==============================] - 7s 82ms/step - loss: 257.0529 - accuracy: 0.9420 - val_loss: 8.2273e-04 - val_accuracy: 0.9415\n",
      "Epoch 61/100\n",
      "85/85 [==============================] - 7s 85ms/step - loss: 237.6392 - accuracy: 0.9421 - val_loss: 8.6088e-04 - val_accuracy: 0.9415\n",
      "Epoch 62/100\n",
      "85/85 [==============================] - 7s 78ms/step - loss: 235.7554 - accuracy: 0.9420 - val_loss: 9.1012e-04 - val_accuracy: 0.9408\n",
      "Epoch 63/100\n",
      "85/85 [==============================] - 7s 81ms/step - loss: 235.6458 - accuracy: 0.9423 - val_loss: 9.6469e-04 - val_accuracy: 0.9415\n",
      "Epoch 64/100\n",
      "85/85 [==============================] - 7s 79ms/step - loss: 235.4607 - accuracy: 0.9421 - val_loss: 0.0010 - val_accuracy: 0.9415\n",
      "Epoch 65/100\n",
      "85/85 [==============================] - 7s 80ms/step - loss: 236.7619 - accuracy: 0.9413 - val_loss: 0.0011 - val_accuracy: 0.9415\n",
      "Epoch 66/100\n",
      "85/85 [==============================] - 7s 77ms/step - loss: 235.6797 - accuracy: 0.9424 - val_loss: 0.0012 - val_accuracy: 0.9415\n",
      "Epoch 67/100\n",
      "85/85 [==============================] - 7s 78ms/step - loss: 235.7707 - accuracy: 0.9424 - val_loss: 0.0012 - val_accuracy: 0.9415\n",
      "Epoch 68/100\n",
      "85/85 [==============================] - 7s 78ms/step - loss: 235.6705 - accuracy: 0.9424 - val_loss: 0.0013 - val_accuracy: 0.9415\n",
      "Epoch 69/100\n",
      "85/85 [==============================] - 7s 79ms/step - loss: 235.7132 - accuracy: 0.9424 - val_loss: 0.0014 - val_accuracy: 0.9392\n",
      "Epoch 70/100\n",
      "85/85 [==============================] - 7s 81ms/step - loss: 240.9612 - accuracy: 0.9406 - val_loss: 0.0015 - val_accuracy: 0.9395\n",
      "Epoch 71/100\n",
      "85/85 [==============================] - 7s 78ms/step - loss: 239.7341 - accuracy: 0.9404 - val_loss: 0.0014 - val_accuracy: 0.9415\n",
      "Epoch 72/100\n",
      "85/85 [==============================] - 7s 81ms/step - loss: 237.3432 - accuracy: 0.9417 - val_loss: 0.0015 - val_accuracy: 0.9415\n",
      "Epoch 73/100\n",
      "85/85 [==============================] - 7s 79ms/step - loss: 235.6838 - accuracy: 0.9424 - val_loss: 0.0016 - val_accuracy: 0.9394\n",
      "Epoch 74/100\n",
      "85/85 [==============================] - 7s 79ms/step - loss: 248.9304 - accuracy: 0.9396 - val_loss: 0.0015 - val_accuracy: 0.9402\n",
      "Epoch 75/100\n",
      "85/85 [==============================] - 7s 78ms/step - loss: 321.7607 - accuracy: 0.9399 - val_loss: 0.0016 - val_accuracy: 0.9385\n",
      "Epoch 76/100\n",
      "85/85 [==============================] - 7s 82ms/step - loss: 258.9982 - accuracy: 0.9400 - val_loss: 0.0015 - val_accuracy: 0.9415\n",
      "Epoch 77/100\n",
      "85/85 [==============================] - 7s 80ms/step - loss: 237.5472 - accuracy: 0.9408 - val_loss: 0.0014 - val_accuracy: 0.9415\n",
      "Epoch 78/100\n",
      "85/85 [==============================] - 7s 83ms/step - loss: 236.3254 - accuracy: 0.9424 - val_loss: 0.0014 - val_accuracy: 0.9415\n",
      "Epoch 79/100\n",
      "85/85 [==============================] - 7s 82ms/step - loss: 235.6298 - accuracy: 0.9424 - val_loss: 0.0015 - val_accuracy: 0.9415\n",
      "Epoch 80/100\n",
      "85/85 [==============================] - 7s 80ms/step - loss: 235.6260 - accuracy: 0.9424 - val_loss: 0.0015 - val_accuracy: 0.9415\n",
      "Epoch 81/100\n",
      "85/85 [==============================] - 7s 81ms/step - loss: 235.6222 - accuracy: 0.9424 - val_loss: 0.0016 - val_accuracy: 0.9415\n",
      "Epoch 82/100\n",
      "85/85 [==============================] - 7s 78ms/step - loss: 235.6178 - accuracy: 0.9424 - val_loss: 0.0016 - val_accuracy: 0.9415\n",
      "Epoch 83/100\n",
      "85/85 [==============================] - 7s 78ms/step - loss: 235.6136 - accuracy: 0.9424 - val_loss: 0.0017 - val_accuracy: 0.9415\n",
      "Epoch 84/100\n",
      "85/85 [==============================] - 7s 81ms/step - loss: 235.6093 - accuracy: 0.9424 - val_loss: 0.0017 - val_accuracy: 0.9415\n",
      "Epoch 85/100\n",
      "85/85 [==============================] - 7s 78ms/step - loss: 235.6049 - accuracy: 0.9424 - val_loss: 0.0018 - val_accuracy: 0.9415\n",
      "Epoch 86/100\n",
      "85/85 [==============================] - 7s 79ms/step - loss: 235.7736 - accuracy: 0.9424 - val_loss: 0.0018 - val_accuracy: 0.9415\n",
      "Epoch 87/100\n",
      "85/85 [==============================] - 7s 80ms/step - loss: 235.7406 - accuracy: 0.9424 - val_loss: 0.0019 - val_accuracy: 0.9415\n",
      "Epoch 88/100\n",
      "85/85 [==============================] - 7s 81ms/step - loss: 235.4945 - accuracy: 0.9424 - val_loss: 0.0019 - val_accuracy: 0.9415\n",
      "Epoch 89/100\n",
      "85/85 [==============================] - 7s 79ms/step - loss: 235.5858 - accuracy: 0.9424 - val_loss: 0.0020 - val_accuracy: 0.9415\n",
      "Epoch 90/100\n",
      "85/85 [==============================] - 7s 80ms/step - loss: 235.5808 - accuracy: 0.9424 - val_loss: 0.0021 - val_accuracy: 0.9415\n",
      "Epoch 91/100\n",
      "85/85 [==============================] - 7s 80ms/step - loss: 235.5757 - accuracy: 0.9423 - val_loss: 0.0021 - val_accuracy: 0.9415\n",
      "Epoch 92/100\n",
      "85/85 [==============================] - 7s 77ms/step - loss: 235.5700 - accuracy: 0.9423 - val_loss: 0.0022 - val_accuracy: 0.9415\n",
      "Epoch 93/100\n",
      "85/85 [==============================] - 7s 80ms/step - loss: 235.5646 - accuracy: 0.9423 - val_loss: 0.0022 - val_accuracy: 0.9415\n",
      "Epoch 94/100\n",
      "85/85 [==============================] - 7s 80ms/step - loss: 235.5590 - accuracy: 0.9423 - val_loss: 0.0023 - val_accuracy: 0.9415\n",
      "Epoch 95/100\n",
      "85/85 [==============================] - 7s 80ms/step - loss: 235.5532 - accuracy: 0.9423 - val_loss: 0.0023 - val_accuracy: 0.9415\n",
      "Epoch 96/100\n",
      "85/85 [==============================] - 7s 79ms/step - loss: 235.5473 - accuracy: 0.9423 - val_loss: 0.0023 - val_accuracy: 0.9414\n",
      "Epoch 97/100\n",
      "85/85 [==============================] - 7s 84ms/step - loss: 235.5416 - accuracy: 0.9423 - val_loss: 0.0024 - val_accuracy: 0.9414\n",
      "Epoch 98/100\n",
      "85/85 [==============================] - 7s 80ms/step - loss: 235.5347 - accuracy: 0.9423 - val_loss: 0.0024 - val_accuracy: 0.9414\n",
      "Epoch 99/100\n",
      "85/85 [==============================] - 7s 77ms/step - loss: 235.5279 - accuracy: 0.9423 - val_loss: 0.0024 - val_accuracy: 0.9414\n",
      "Epoch 100/100\n",
      "85/85 [==============================] - 7s 80ms/step - loss: 235.5211 - accuracy: 0.9423 - val_loss: 0.0024 - val_accuracy: 0.9414\n"
     ]
    }
   ],
   "source": [
    "history = autoencoder.fit(training_generator,validation_data=testing_generator, epochs=100)"
   ]
  },
  {
   "cell_type": "code",
   "execution_count": 29,
   "metadata": {},
   "outputs": [
    {
     "name": "stdout",
     "output_type": "stream",
     "text": [
      "Autoencoder MSE: [0.0023995316587388515, 0.9414080381393433]\n"
     ]
    }
   ],
   "source": [
    "score = autoencoder.evaluate(testing_generator,verbose=0)\n",
    "print(\"Autoencoder MSE:\", score)"
   ]
  },
  {
   "cell_type": "code",
   "execution_count": 38,
   "metadata": {},
   "outputs": [],
   "source": [
    "test_sample = testing_generator.__getitem__(0)\n",
    "batch_test_x = test_sample[0]\n",
    "batch_test_y = test_sample[1]\n",
    "\n",
    "i = 0\n",
    "img = batch_test_x[i]\n",
    "M = batch_test_y[i]"
   ]
  },
  {
   "cell_type": "code",
   "execution_count": 39,
   "metadata": {},
   "outputs": [
    {
     "data": {
      "text/plain": [
       "(16, 128, 128, 1)"
      ]
     },
     "execution_count": 39,
     "metadata": {},
     "output_type": "execute_result"
    }
   ],
   "source": [
    "batch_test_x.shape"
   ]
  },
  {
   "cell_type": "code",
   "execution_count": 41,
   "metadata": {},
   "outputs": [
    {
     "data": {
      "text/plain": [
       "(16, 128, 128, 1)"
      ]
     },
     "metadata": {},
     "output_type": "display_data"
    },
    {
     "data": {
      "text/plain": [
       "(128, 128, 1)"
      ]
     },
     "metadata": {},
     "output_type": "display_data"
    },
    {
     "data": {
      "text/plain": [
       "<matplotlib.image.AxesImage at 0x1cd75b181c8>"
      ]
     },
     "execution_count": 41,
     "metadata": {},
     "output_type": "execute_result"
    },
    {
     "data": {
      "image/png": "[encoded data removed]",
      "text/plain": [
       "<Figure size 432x288 with 3 Axes>"
      ]
     },
     "metadata": {
      "needs_background": "light"
     },
     "output_type": "display_data"
    }
   ],
   "source": [
    "# Get a random signal from our test batch\n",
    "display(batch_test_x.shape)\n",
    "sample_1 = batch_test_x[0]\n",
    "display(sample_1.shape)\n",
    "\n",
    "img = sample_1\n",
    "code = encoder.predict(img[None])[0]\n",
    "reco = decoder.predict(code[None])[0]\n",
    "\n",
    "# Display \n",
    "plt.subplot(1,3,1)\n",
    "plt.title(\"Noise\")\n",
    "plt.imshow(img)\n",
    "\n",
    "plt.subplot(1,3,2)\n",
    "plt.title(\"Actual\")\n",
    "plt.imshow(M)\n",
    "\n",
    "plt.subplot(1,3,3)\n",
    "plt.title(\"Reconstructed\")\n",
    "plt.imshow(reco)"
   ]
  },
  {
   "cell_type": "markdown",
   "metadata": {},
   "source": [
    "# Convolutional Autoencoder <a class=\"anchor\" id=\"conv_ae\"></a>"
   ]
  },
  {
   "cell_type": "markdown",
   "metadata": {},
   "source": [
    "Up until now, we have implemented vanilla and multilayer autoencoder. When working with image processing, in our case mel spectrogram, we can look to leverage convolutional autoencoder. Convolutional autoencoder utilizes the 2D array as context to learn features compared to the former one dimensional information. The autoencoder architecturaly still includes the encoder and the decoder. The concept is still the same for vanilla, multilayer, and convolutional autoencoder. \n",
    "\n",
    "<img src='./images/conv_autoencoder.jpg' style='width: 40%' title='Conv Autoencoder'> \n",
    "\n",
    "In the encoder, when we reduce the dimensionality of the input data, we use the [Conv2D](https://www.tensorflow.org/api_docs/python/tf/keras/layers/Conv2D), and [MaxPool](https://www.tensorflow.org/api_docs/python/tf/keras/layers/MaxPool2D) Layers. The Conv2D is often seen in computer vision tasks, when we want to train a model to learn features of the objects that the user wants to detect. The features/filters is slowly updated to look like subcomponents of the object detected. When the learned filters performs a product on the input images, it activates areas on the input image space that indicates the object features it has learned. \n",
    "\n",
    "On the other end, the decoder upsamples by using the [Conv2DTranspose](https://www.tensorflow.org/api_docs/python/tf/keras/layers/Conv2DTranspose) Layer. Since upsampling is not a common mechanism in neural network we experiment and visualize to get a feel on what the operation does. Below are some code to perform a Conv2D transpose operation. "
   ]
  },
  {
   "cell_type": "code",
   "execution_count": 42,
   "metadata": {},
   "outputs": [],
   "source": [
    "def conv2d_transpose(img_size, filter_size):\n",
    "    print(f\"conv2d_tranpose: img_size={img_size}, filter_size={filter_size}\")\n",
    "    \n",
    "    # Create a img_size by img_size input image \n",
    "    x = np.arange(img_size*img_size, dtype=np.float32)+1\n",
    "    x = x.reshape((1, img_size, img_size, 1))\n",
    "    # Create filters of all ones\n",
    "    f = (np.ones(filter_size*filter_size, dtype=np.float32))\n",
    "    f = f.reshape((filter_size, filter_size, 1, 1))\n",
    "\n",
    "    output = tf.nn.conv2d_transpose(x, f, \n",
    "                                  output_shape=(1, img_size * 2, img_size * 2, 1), \n",
    "                                  strides=[1, 2, 2, 1], \n",
    "                                  padding='SAME')\n",
    "    # Display the Input, Filter, Output\n",
    "    print(\"Input:\")\n",
    "    print(x[0, :, :, 0])\n",
    "    print(\"Filter:\")\n",
    "    print(f[:, :, 0, 0])\n",
    "    print(\"Output:\")\n",
    "    print(output[0, :, :, 0])\n",
    "    print(\"\\n\")"
   ]
  },
  {
   "cell_type": "markdown",
   "metadata": {},
   "source": [
    "Below you can modify the image size and the filter size to see what the results look like with the Conv2D tranpose operation. "
   ]
  },
  {
   "cell_type": "code",
   "execution_count": 43,
   "metadata": {
    "scrolled": true
   },
   "outputs": [
    {
     "name": "stdout",
     "output_type": "stream",
     "text": [
      "conv2d_tranpose: img_size=2, filter_size=2\n",
      "Input:\n",
      "[[1. 2.]\n",
      " [3. 4.]]\n",
      "Filter:\n",
      "[[1. 1.]\n",
      " [1. 1.]]\n",
      "Output:\n",
      "tf.Tensor(\n",
      "[[1. 1. 2. 2.]\n",
      " [1. 1. 2. 2.]\n",
      " [3. 3. 4. 4.]\n",
      " [3. 3. 4. 4.]], shape=(4, 4), dtype=float32)\n",
      "\n",
      "\n",
      "conv2d_tranpose: img_size=2, filter_size=3\n",
      "Input:\n",
      "[[1. 2.]\n",
      " [3. 4.]]\n",
      "Filter:\n",
      "[[1. 1. 1.]\n",
      " [1. 1. 1.]\n",
      " [1. 1. 1.]]\n",
      "Output:\n",
      "tf.Tensor(\n",
      "[[ 1.  1.  3.  2.]\n",
      " [ 1.  1.  3.  2.]\n",
      " [ 4.  4. 10.  6.]\n",
      " [ 3.  3.  7.  4.]], shape=(4, 4), dtype=float32)\n",
      "\n",
      "\n",
      "conv2d_tranpose: img_size=2, filter_size=4\n",
      "Input:\n",
      "[[1. 2.]\n",
      " [3. 4.]]\n",
      "Filter:\n",
      "[[1. 1. 1. 1.]\n",
      " [1. 1. 1. 1.]\n",
      " [1. 1. 1. 1.]\n",
      " [1. 1. 1. 1.]]\n",
      "Output:\n",
      "tf.Tensor(\n",
      "[[ 1.  3.  3.  2.]\n",
      " [ 4. 10. 10.  6.]\n",
      " [ 4. 10. 10.  6.]\n",
      " [ 3.  7.  7.  4.]], shape=(4, 4), dtype=float32)\n",
      "\n",
      "\n"
     ]
    }
   ],
   "source": [
    "conv2d_transpose(img_size=2, filter_size=2)\n",
    "conv2d_transpose(img_size=2, filter_size=3)\n",
    "conv2d_transpose(img_size=2, filter_size=4)"
   ]
  },
  {
   "cell_type": "markdown",
   "metadata": {},
   "source": [
    "Below we will write the layers for the Convolutional Autoencoder. "
   ]
  },
  {
   "cell_type": "code",
   "execution_count": 44,
   "metadata": {},
   "outputs": [],
   "source": [
    "def build_deep_autoencoder(img_shape, code_size):\n",
    "    \"\"\"PCA's deeper brother. See instructions above. Use `code_size` in layer definitions.\"\"\"\n",
    "    H,W,C = img_shape\n",
    "    \n",
    "    # encoder\n",
    "    encoder = keras.models.Sequential()\n",
    "    encoder.add(InputLayer(img_shape))\n",
    "\n",
    "    encoder.add(Conv2D(filters=8,kernel_size=(3,3),padding='same',activation='relu'))\n",
    "    encoder.add(MaxPooling2D(pool_size=(2,2)))\n",
    "    encoder.add(Conv2D(filters=16,kernel_size=(3,3),padding='same',activation='relu'))\n",
    "    encoder.add(MaxPooling2D(pool_size=(2,2)))\n",
    "    encoder.add(Conv2D(filters=32,kernel_size=(3,3),padding='same',activation='relu'))\n",
    "    encoder.add(MaxPooling2D(pool_size=(2,2)))\n",
    "    encoder.add(Conv2D(filters=64,kernel_size=(3,3),padding='same',activation='relu'))\n",
    "    encoder.add(MaxPooling2D(pool_size=(2,2)))\n",
    "    encoder.add(Conv2D(filters=128,kernel_size=(3,3),padding='same',activation='relu'))\n",
    "    encoder.add(MaxPooling2D(pool_size=(2,2)))\n",
    "    encoder.add(Conv2D(filters=256,kernel_size=(3,3),padding='same',activation='relu'))\n",
    "    encoder.add(MaxPooling2D(pool_size=(2,2)))\n",
    "    encoder.add(Flatten())                  #flatten image to vector\n",
    "    encoder.add(Dense(code_size))           #actual encoder\n",
    "\n",
    "    # decoder\n",
    "    decoder = keras.models.Sequential()\n",
    "    decoder.add(InputLayer((code_size,)))\n",
    "   \n",
    "    decoder.add(Dense(2*2*256))\n",
    "    decoder.add(Reshape((2,2,256)))\n",
    "    decoder.add(Conv2DTranspose(filters=128, kernel_size=(3, 3), strides=2, activation='relu', padding='same'))\n",
    "    decoder.add(Conv2DTranspose(filters=64, kernel_size=(3, 3), strides=2, activation='relu', padding='same'))\n",
    "    decoder.add(Conv2DTranspose(filters=32, kernel_size=(3, 3), strides=2, activation='relu', padding='same'))\n",
    "    decoder.add(Conv2DTranspose(filters=16, kernel_size=(3, 3), strides=2, activation='relu', padding='same'))\n",
    "    decoder.add(Conv2DTranspose(filters=8, kernel_size=(3, 3), strides=2, activation='relu', padding='same'))\n",
    "    decoder.add(Conv2DTranspose(filters=1, kernel_size=(3, 3), strides=2, activation=None, padding='same'))\n",
    "    \n",
    "    return encoder, decoder"
   ]
  },
  {
   "cell_type": "markdown",
   "metadata": {},
   "source": [
    "Let's instantiate the convolutional autoencoder and examine the encoder and the decoder layers."
   ]
  },
  {
   "cell_type": "code",
   "execution_count": 45,
   "metadata": {},
   "outputs": [
    {
     "name": "stdout",
     "output_type": "stream",
     "text": [
      "Model: \"sequential_7\"\n",
      "_________________________________________________________________\n",
      "Layer (type)                 Output Shape              Param #   \n",
      "=================================================================\n",
      "conv2d_1 (Conv2D)            (None, 128, 128, 8)       80        \n",
      "_________________________________________________________________\n",
      "max_pooling2d_1 (MaxPooling2 (None, 64, 64, 8)         0         \n",
      "_________________________________________________________________\n",
      "conv2d_2 (Conv2D)            (None, 64, 64, 16)        1168      \n",
      "_________________________________________________________________\n",
      "max_pooling2d_2 (MaxPooling2 (None, 32, 32, 16)        0         \n",
      "_________________________________________________________________\n",
      "conv2d_3 (Conv2D)            (None, 32, 32, 32)        4640      \n",
      "_________________________________________________________________\n",
      "max_pooling2d_3 (MaxPooling2 (None, 16, 16, 32)        0         \n",
      "_________________________________________________________________\n",
      "conv2d_4 (Conv2D)            (None, 16, 16, 64)        18496     \n",
      "_________________________________________________________________\n",
      "max_pooling2d_4 (MaxPooling2 (None, 8, 8, 64)          0         \n",
      "_________________________________________________________________\n",
      "conv2d_5 (Conv2D)            (None, 8, 8, 128)         73856     \n",
      "_________________________________________________________________\n",
      "max_pooling2d_5 (MaxPooling2 (None, 4, 4, 128)         0         \n",
      "_________________________________________________________________\n",
      "conv2d_6 (Conv2D)            (None, 4, 4, 256)         295168    \n",
      "_________________________________________________________________\n",
      "max_pooling2d_6 (MaxPooling2 (None, 2, 2, 256)         0         \n",
      "_________________________________________________________________\n",
      "flatten_4 (Flatten)          (None, 1024)              0         \n",
      "_________________________________________________________________\n",
      "dense_11 (Dense)             (None, 1000)              1025000   \n",
      "=================================================================\n",
      "Total params: 1,418,408\n",
      "Trainable params: 1,418,408\n",
      "Non-trainable params: 0\n",
      "_________________________________________________________________\n"
     ]
    }
   ],
   "source": [
    "encoder, decoder = build_deep_autoencoder(IMG_SHAPE, code_size=1000)\n",
    "encoder.summary()"
   ]
  },
  {
   "cell_type": "code",
   "execution_count": 46,
   "metadata": {},
   "outputs": [
    {
     "name": "stdout",
     "output_type": "stream",
     "text": [
      "Model: \"sequential_8\"\n",
      "_________________________________________________________________\n",
      "Layer (type)                 Output Shape              Param #   \n",
      "=================================================================\n",
      "dense_12 (Dense)             (None, 1024)              1025024   \n",
      "_________________________________________________________________\n",
      "reshape_4 (Reshape)          (None, 2, 2, 256)         0         \n",
      "_________________________________________________________________\n",
      "conv2d_transpose_1 (Conv2DTr (None, 4, 4, 128)         295040    \n",
      "_________________________________________________________________\n",
      "conv2d_transpose_2 (Conv2DTr (None, 8, 8, 64)          73792     \n",
      "_________________________________________________________________\n",
      "conv2d_transpose_3 (Conv2DTr (None, 16, 16, 32)        18464     \n",
      "_________________________________________________________________\n",
      "conv2d_transpose_4 (Conv2DTr (None, 32, 32, 16)        4624      \n",
      "_________________________________________________________________\n",
      "conv2d_transpose_5 (Conv2DTr (None, 64, 64, 8)         1160      \n",
      "_________________________________________________________________\n",
      "conv2d_transpose_6 (Conv2DTr (None, 128, 128, 1)       73        \n",
      "=================================================================\n",
      "Total params: 1,418,177\n",
      "Trainable params: 1,418,177\n",
      "Non-trainable params: 0\n",
      "_________________________________________________________________\n"
     ]
    }
   ],
   "source": [
    "decoder.summary()"
   ]
  },
  {
   "cell_type": "code",
   "execution_count": 47,
   "metadata": {},
   "outputs": [],
   "source": [
    "inp = Input(IMG_SHAPE)\n",
    "code = encoder(inp)\n",
    "reconstruction = decoder(code)\n",
    "\n",
    "autoencoder = keras.models.Model(inputs=inp, outputs=reconstruction)\n",
    "autoencoder.compile(optimizer=\"adamax\", loss='mse',metrics=['accuracy'])"
   ]
  },
  {
   "cell_type": "markdown",
   "metadata": {},
   "source": [
    "Let's train the awesome model !"
   ]
  },
  {
   "cell_type": "code",
   "execution_count": 48,
   "metadata": {
    "scrolled": true
   },
   "outputs": [
    {
     "name": "stdout",
     "output_type": "stream",
     "text": [
      "Epoch 1/20\n",
      "85/85 [==============================] - 7s 83ms/step - loss: 457.0532 - accuracy: 0.9397 - val_loss: 2.8502e-05 - val_accuracy: 0.9395\n",
      "Epoch 2/20\n",
      "85/85 [==============================] - 7s 77ms/step - loss: 235.2280 - accuracy: 0.9402 - val_loss: 4.7160e-05 - val_accuracy: 0.9392\n",
      "Epoch 3/20\n",
      "85/85 [==============================] - 7s 79ms/step - loss: 234.7331 - accuracy: 0.9397 - val_loss: 7.1464e-05 - val_accuracy: 0.9390\n",
      "Epoch 4/20\n",
      "85/85 [==============================] - 7s 78ms/step - loss: 234.2116 - accuracy: 0.9394 - val_loss: 9.7823e-05 - val_accuracy: 0.9389\n",
      "Epoch 5/20\n",
      "85/85 [==============================] - 6s 76ms/step - loss: 233.5999 - accuracy: 0.9394 - val_loss: 1.2658e-04 - val_accuracy: 0.9391\n",
      "Epoch 6/20\n",
      "85/85 [==============================] - 7s 78ms/step - loss: 233.0704 - accuracy: 0.9398 - val_loss: 1.5521e-04 - val_accuracy: 0.9389\n",
      "Epoch 7/20\n",
      "85/85 [==============================] - 7s 79ms/step - loss: 232.6153 - accuracy: 0.9393 - val_loss: 1.9783e-04 - val_accuracy: 0.9390\n",
      "Epoch 8/20\n",
      "85/85 [==============================] - 7s 79ms/step - loss: 232.3269 - accuracy: 0.9397 - val_loss: 2.4733e-04 - val_accuracy: 0.9389\n",
      "Epoch 9/20\n",
      "85/85 [==============================] - 7s 77ms/step - loss: 231.8576 - accuracy: 0.9395 - val_loss: 2.7953e-04 - val_accuracy: 0.9392\n",
      "Epoch 10/20\n",
      "85/85 [==============================] - 7s 78ms/step - loss: 231.5290 - accuracy: 0.9397 - val_loss: 3.4261e-04 - val_accuracy: 0.9391\n",
      "Epoch 11/20\n",
      "85/85 [==============================] - 7s 79ms/step - loss: 230.9850 - accuracy: 0.9399 - val_loss: 4.0662e-04 - val_accuracy: 0.9388\n",
      "Epoch 12/20\n",
      "85/85 [==============================] - 7s 77ms/step - loss: 230.8672 - accuracy: 0.9395 - val_loss: 4.3857e-04 - val_accuracy: 0.9391\n",
      "Epoch 13/20\n",
      "85/85 [==============================] - 7s 79ms/step - loss: 230.5524 - accuracy: 0.9397 - val_loss: 5.0129e-04 - val_accuracy: 0.9392\n",
      "Epoch 14/20\n",
      "85/85 [==============================] - 7s 80ms/step - loss: 229.9549 - accuracy: 0.9397 - val_loss: 5.5164e-04 - val_accuracy: 0.9392\n",
      "Epoch 15/20\n",
      "85/85 [==============================] - 7s 78ms/step - loss: 229.9930 - accuracy: 0.9398 - val_loss: 6.0092e-04 - val_accuracy: 0.9393\n",
      "Epoch 16/20\n",
      "85/85 [==============================] - 7s 78ms/step - loss: 229.2366 - accuracy: 0.9398 - val_loss: 6.4706e-04 - val_accuracy: 0.9392\n",
      "Epoch 17/20\n",
      "85/85 [==============================] - 7s 78ms/step - loss: 228.7914 - accuracy: 0.9398 - val_loss: 6.6096e-04 - val_accuracy: 0.9393\n",
      "Epoch 18/20\n",
      "85/85 [==============================] - 7s 78ms/step - loss: 228.3358 - accuracy: 0.9400 - val_loss: 7.2922e-04 - val_accuracy: 0.9391\n",
      "Epoch 19/20\n",
      "85/85 [==============================] - 7s 77ms/step - loss: 228.4377 - accuracy: 0.9399 - val_loss: 7.6338e-04 - val_accuracy: 0.9392\n",
      "Epoch 20/20\n",
      "85/85 [==============================] - 7s 78ms/step - loss: 227.9235 - accuracy: 0.9398 - val_loss: 7.9227e-04 - val_accuracy: 0.9392\n"
     ]
    },
    {
     "data": {
      "text/plain": [
       "<keras.callbacks.callbacks.History at 0x1cda1f4bc48>"
      ]
     },
     "execution_count": 48,
     "metadata": {},
     "output_type": "execute_result"
    }
   ],
   "source": [
    "model_filename = 'autoencoder.hdf5'\n",
    "last_finished_epoch = None\n",
    "checkpoint=tf.keras.callbacks.ModelCheckpoint(model_filename, monitor='val_loss', verbose=0, save_best_only=False)\n",
    "\n",
    "## loading the previously fit model.\n",
    "autoencoder.fit(training_generator, epochs=20,\n",
    "                validation_data=testing_generator,\n",
    "                callbacks=[checkpoint])"
   ]
  },
  {
   "cell_type": "markdown",
   "metadata": {},
   "source": [
    "Once trained, we can visualize how well the Convolutional Autoencoder does. "
   ]
  },
  {
   "cell_type": "code",
   "execution_count": 49,
   "metadata": {},
   "outputs": [],
   "source": [
    "test_sample = testing_generator.__getitem__(0)\n",
    "batch_test_x = test_sample[0]\n",
    "batch_test_y = test_sample[1]\n",
    "\n",
    "i = 0\n",
    "img = batch_test_x[i]\n",
    "M = batch_test_y[i]"
   ]
  },
  {
   "cell_type": "code",
   "execution_count": 680,
   "metadata": {},
   "outputs": [
    {
     "data": {
      "text/plain": [
       "<matplotlib.image.AxesImage at 0x26174b533c8>"
      ]
     },
     "execution_count": 680,
     "metadata": {},
     "output_type": "execute_result"
    },
    {
     "data": {
      "image/png": "[encoded data removed]",
      "text/plain": [
       "<Figure size 432x288 with 3 Axes>"
      ]
     },
     "metadata": {
      "needs_background": "light"
     },
     "output_type": "display_data"
    }
   ],
   "source": [
    "code = encoder.predict(img[None])[0]\n",
    "reco = decoder.predict(code[None])[0]\n",
    "\n",
    "plt.subplot(1,3,1)\n",
    "plt.title(\"Noise\")\n",
    "plt.imshow(img)\n",
    "\n",
    "plt.subplot(1,3,2)\n",
    "plt.title(\"Actual\")\n",
    "plt.imshow(M)\n",
    "\n",
    "plt.subplot(1,3,3)\n",
    "plt.title(\"Reconstructed\")\n",
    "plt.imshow(reco)"
   ]
  },
  {
   "cell_type": "code",
   "execution_count": 681,
   "metadata": {},
   "outputs": [
    {
     "name": "stdout",
     "output_type": "stream",
     "text": [
      "Convolutional autoencoder MSE: [0.010865902528166771, 0.9414052963256836]\n"
     ]
    }
   ],
   "source": [
    "reconstruction_mse = autoencoder.evaluate(testing_generator, verbose=0)\n",
    "print(\"Convolutional autoencoder MSE:\", reconstruction_mse)"
   ]
  },
  {
   "cell_type": "markdown",
   "metadata": {},
   "source": [
    "## Summary <a class=\"anchor\" id=\"summary\"></a>\n",
    "\n",
    "To recap on the tutorial, we have tackled and discussed: \n",
    "- Definition and architecture of Autoencoder\n",
    "- Different Signal data types\n",
    "- How to transform acoustic signal to mel spectrogram, and inject noise\n",
    "- Implement Vanilla, Multilayer, and Convolutional Autoencoder\n",
    "- Train and Evaluate the Autoencoders\n",
    "\n",
    "## Next Steps <a class=\"anchor\" id=\"next_steps\"></a>\n",
    "\n",
    "Below are some additional concepts you can explore:\n",
    "- Try a different noise injections (gaussian, poisson, artificial markings)\n",
    "- Try modifying the autoencoder hyperparameters\n",
    "    - number of hidden layers\n",
    "    - [activation functions](https://www.tensorflow.org/api_docs/python/tf/keras/activations)\n",
    "    - size of the code size, smaller or larger code representation\n",
    "    - size of the input/output (mel spectrogram) \n",
    "- Switch to other types of Autoencoders such as the Variational autoencoder (VAE)\n",
    "    - VAE's training is regularized to avoid overfitting and unlike the autoencoder that encodes the input to single points, VAE encodes it as a distribution in the latent space. "
   ]
  },
  {
   "cell_type": "markdown",
   "metadata": {},
   "source": [
    "## References <a class=\"anchor\" id=\"ref\"></a>\n",
    "\n",
    "### Paper\n",
    "- [Hinton, G. E.; Salakhutdinov, R.R. (2006-07-28). \"Reducing the Dimensionality of Data with Neural Networks\"](https://www.cs.toronto.edu/~hinton/science.pdf)\n",
    "- [ Cho, K. (2013, February). Simple sparsification improves sparse denoising autoencoders in denoising highly corrupted images](https://citeseerx.ist.psu.edu/viewdoc/download?doi=10.1.1.360.8534&rep=rep1&type=pdf)\n",
    "- [On the Properties of Neural Machine Translation: Encoder-Decoder Approaches](https://arxiv.org/abs/1409.1259)\n",
    "- [S.Rovder; J.Cano, M.OBoyle. \"Optimising Convolutional Neural Networks Inference on Low-Powered GPUs\"](https://www.researchgate.net/publication/330638173_Optimising_Convolutional_Neural_Networks_Inference_on_Low-Powered_GPUs)\n",
    "\n",
    "### Blogs\n",
    "\n",
    "- [L.Kerbs; G.Williams. \"Deep Learning for Radio Waves\"](https://medium.com/gsi-technology/deep-learning-for-radio-waves-c240446711d1)\n",
    "\n",
    "                         \n",
    "\n",
    "### Contact : *lo_donovan@bah.com*\n",
    "\n",
    "<img src='./images/bah.jpg' style='width: 40%' title='BAH'> \n"
   ]
  },
  {
   "cell_type": "code",
   "execution_count": null,
   "metadata": {},
   "outputs": [],
   "source": []
  }
 ],
 "metadata": {
  "kernelspec": {
   "display_name": "ae_gpu",
   "language": "python",
   "name": "ae_gpu"
  },
  "language_info": {
   "codemirror_mode": {
    "name": "ipython",
    "version": 3
   },
   "file_extension": ".py",
   "mimetype": "text/x-python",
   "name": "python",
   "nbconvert_exporter": "python",
   "pygments_lexer": "ipython3",
   "version": "3.7.9"
  }
 },
 "nbformat": 4,
 "nbformat_minor": 4
}
